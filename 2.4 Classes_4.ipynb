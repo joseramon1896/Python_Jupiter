{
 "cells": [
  {
   "cell_type": "code",
   "execution_count": 1,
   "metadata": {},
   "outputs": [],
   "source": [
    "class Dog:\r\n",
    "    def __init__(self, name, bread):\r\n",
    "        self.__name=name\r\n",
    "        self.__bread=bread\r\n",
    "        \r\n",
    "    def print_details(self):\r\n",
    "        print(\"My name is %s and I'm a %s \" % (self.__name,self.__bread))\r\n",
    "        \r\n",
    "    def change_name(self,name):\r\n",
    "        self.__name=name\r\n",
    "        "
   ]
  },
  {
   "cell_type": "code",
   "execution_count": null,
   "metadata": {},
   "outputs": [],
   "source": [
    "d1= Dog(\"Nemo\",\"Husky\")\r\n",
    "d1.print_details()"
   ]
  },
  {
   "cell_type": "code",
   "execution_count": null,
   "metadata": {},
   "outputs": [],
   "source": [
    "d1.change_name(\"Oba\")\r\n",
    "d1.print_details()"
   ]
  },
  {
   "cell_type": "code",
   "execution_count": null,
   "metadata": {},
   "outputs": [],
   "source": [
    "class Dog:\r\n",
    "    __species = \"canine\"\r\n",
    "    \r\n",
    "    def __init__(self, name, bread):\r\n",
    "    self.__name=name\r\n",
    "      self.__bread=bread\r\n",
    "    self.__tricks=[]\r\n",
    "        \r\n",
    "    def get_name(self):\r\n",
    "        return self.__name\r\n",
    "    \r\n",
    "    def set_name(self,name):\r\n",
    "        self.__name=name\r\n",
    "        \r\n",
    "    def get_bread(self):\r\n",
    "        return self.__bread\r\n",
    "    \r\n",
    "     def set_bread(self,name):\r\n",
    "        self.__bread=bread\r\n",
    "        \r\n",
    "    def add_trick(self,trick):\r\n",
    "        self.trick.append(trick)\r\n",
    "        \r\n",
    "    def print_details(self):\r\n",
    "        print(\"My name is %s and I'm a %s, and I can do %s\" % (self.__name,self.__bread,self.__tricks))\r\n",
    "    "
   ]
  },
  {
   "cell_type": "code",
   "execution_count": null,
   "metadata": {},
   "outputs": [],
   "source": [
    "class Dog:\r\n",
    "    __species = \"canine\"\r\n",
    "    \r\n",
    "    def __init__(self, name, bread):\r\n",
    "    self.__name=name\r\n",
    "      self.__bread=bread\r\n",
    "    self.__tricks=[]\r\n",
    "        \r\n",
    "    def get_name(self):\r\n",
    "        return self.__name\r\n",
    "    \r\n",
    "    def set_name(self,name):\r\n",
    "        self.__name=name\r\n",
    "        \r\n",
    "    def get_bread(self):\r\n",
    "        return self.__bread\r\n",
    "    "
   ]
  },
  {
   "cell_type": "code",
   "execution_count": null,
   "metadata": {},
   "outputs": [],
   "source": [
    "class Dog:\r\n",
    "    __species = \"canine\"\r\n",
    "    \r\n",
    "    def __init__(self, name, bread):\r\n",
    "      self.__name=name\r\n",
    "      self.__bread=bread\r\n",
    "      self.__tricks=[]\r\n",
    "        \r\n",
    "    def get_name(self):\r\n",
    "        return self.__name\r\n",
    "    \r\n",
    "    def set_name(self,name):\r\n",
    "        self.__name=name\r\n",
    "        "
   ]
  },
  {
   "cell_type": "code",
   "execution_count": null,
   "metadata": {},
   "outputs": [],
   "source": [
    "class Dog:\r\n",
    "    __species = \"canine\"\r\n",
    "    def __init__(self,name,bread):\r\n",
    "        self.__name=name\r\n",
    "        self.__bread=bread\r\n",
    "        self.__tricks=[]\r\n",
    "        \r\n",
    "    def get_name(self):\r\n",
    "        return self.__name\r\n",
    "    \r\n",
    "    def set_name(self,name):\r\n",
    "        self.__name=name\r\n",
    "\r\n",
    "    def get_bread(self):\r\n",
    "        return self.__bread\r\n",
    "\r\n",
    "    def set_bread(self,bread):\r\n",
    "        self.__bread=bread\r\n",
    "        \r\n",
    "    def add_trick(self,trick):\r\n",
    "        self.__tricks.append(trick)\r\n",
    "        \r\n",
    "    def print_details(self):\r\n",
    "        print(\"My name is %s and I'm a %s, and I can do %s\" % (self.__name,self.__bread,self.__tricks))\r\n"
   ]
  },
  {
   "cell_type": "code",
   "execution_count": null,
   "metadata": {},
   "outputs": [],
   "source": [
    "d1 = Dog(\"Nemo\", \"Golden Retriever\")\r\n",
    "d1.print_details()"
   ]
  },
  {
   "cell_type": "code",
   "execution_count": null,
   "metadata": {},
   "outputs": [],
   "source": [
    "d1.add_trick('Roll over')\r\n",
    "d1.print_details"
   ]
  },
  {
   "cell_type": "code",
   "execution_count": null,
   "metadata": {},
   "outputs": [],
   "source": [
    "d1.print_details"
   ]
  },
  {
   "cell_type": "code",
   "execution_count": null,
   "metadata": {},
   "outputs": [],
   "source": [
    "d1.set_bread(\"Labrador\")\r\n"
   ]
  },
  {
   "cell_type": "code",
   "execution_count": 2,
   "metadata": {},
   "outputs": [],
   "source": [
    "import math\r\n",
    "\r\n",
    "class Circle:\r\n",
    "    \r\n",
    "    def __init__(self,radius):\r\n",
    "        self.__radius=radius\r\n",
    "        \r\n",
    "    def get_area(self):\r\n",
    "        return math.pi*self.__radius*self.__radius\r\n",
    "    \r\n",
    "    def get_perimeter(self):\r\n",
    "        return 2*math.pi*self.__radius"
   ]
  },
  {
   "cell_type": "code",
   "execution_count": 3,
   "metadata": {},
   "outputs": [
    {
     "data": {
      "text/plain": "314.1592653589793"
     },
     "execution_count": 3,
     "metadata": {},
     "output_type": "execute_result"
    }
   ],
   "source": [
    "c1=Circle(10)\r\n",
    "\r\n",
    "c1.get_area()"
   ]
  },
  {
   "cell_type": "code",
   "execution_count": 4,
   "metadata": {},
   "outputs": [
    {
     "data": {
      "text/plain": "62.83185307179586"
     },
     "execution_count": 4,
     "metadata": {},
     "output_type": "execute_result"
    }
   ],
   "source": [
    "c1.get_perimeter()"
   ]
  }
 ],
 "metadata": {
  "kernelspec": {
   "display_name": "Python 3.11.6 64-bit",
   "name": "python3116jvsc74a57bd0396b296e0f55bef3218fd4c4f1d1d59ace30c25a47d8c2a612b4913fa29e22ed"
  },
  "language_info": {
   "codemirror_mode": {
    "name": "ipython",
    "version": 3
   },
   "file_extension": ".py",
   "mimetype": "text/x-python",
   "name": "python",
   "nbconvert_exporter": "python",
   "pygments_lexer": "ipython3",
   "version": "3.11.6"
  },
  "metadata": {
   "interpreter": {
    "hash": "396b296e0f55bef3218fd4c4f1d1d59ace30c25a47d8c2a612b4913fa29e22ed"
   }
  },
  "orig_nbformat": 2
 },
 "nbformat": 4,
 "nbformat_minor": 2
}