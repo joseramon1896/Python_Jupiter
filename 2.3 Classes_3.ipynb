{
 "cells": [
  {
   "cell_type": "code",
   "execution_count": 1,
   "metadata": {},
   "outputs": [],
   "source": [
    "class Dog:\r\n",
    "    def __init__(self, name, bread):\r\n",
    "        self.__name=name\r\n",
    "        self.__bread=bread\r\n",
    "        \r\n",
    "    def print_details(self):\r\n",
    "        print(\"My name is %s and I'm a %s \" % (self.__name,self.__bread))\r\n",
    "        \r\n",
    "    def change_name(self,name):\r\n",
    "        self.__name=name"
   ]
  },
  {
   "cell_type": "code",
   "execution_count": 2,
   "metadata": {},
   "outputs": [
    {
     "name": "stdout",
     "output_type": "stream",
     "text": [
      "My name is Barky and I'm a Labrador \n"
     ]
    }
   ],
   "source": [
    "d1=Dog(\"Barky\",\"Labrador\")\r\n",
    "d1.print_details()"
   ]
  },
  {
   "cell_type": "code",
   "execution_count": 3,
   "metadata": {},
   "outputs": [
    {
     "name": "stdout",
     "output_type": "stream",
     "text": [
      "My name is Buster and I'm a Labrador \n"
     ]
    }
   ],
   "source": [
    "d1.change_name(\"Buster\")\r\n",
    "d1.print_details()"
   ]
  },
  {
   "cell_type": "code",
   "execution_count": null,
   "metadata": {},
   "outputs": [],
   "source": [
    "d1.__name=\"Oba\"\r\n",
    "d1.print_details()"
   ]
  },
  {
   "cell_type": "code",
   "execution_count": null,
   "metadata": {},
   "outputs": [],
   "source": [
    "d1.__dict__"
   ]
  },
  {
   "cell_type": "code",
   "execution_count": null,
   "metadata": {},
   "outputs": [],
   "source": [
    "d1._Dog__name=\"Dex\"\r\n",
    "d1.print_details()"
   ]
  },
  {
   "cell_type": "code",
   "execution_count": null,
   "metadata": {},
   "outputs": [],
   "source": [
    "d1.change_name(\"Lex\")\r\n",
    "d1.print_details()"
   ]
  },
  {
   "cell_type": "code",
   "execution_count": null,
   "metadata": {},
   "outputs": [],
   "source": [
    "class Dog:\r\n",
    "    \"\"\"\r\n",
    "    This is a class dog to get information and set new data already available\r\n",
    "    \"\"\"\r\n",
    "    __species=\"Canine\"\r\n",
    "    \r\n",
    "    def __init__(self,name,breed):\r\n",
    "        self.__name=name\r\n",
    "        self.__breed=breed\r\n",
    "        self.__tricks=[]\r\n",
    "        \r\n",
    "    def get_name(self):\r\n",
    "        return self.__name\r\n",
    "    \r\n",
    "    def set_name(self,name):\r\n",
    "        self.__name=name\r\n",
    "        \r\n",
    "    def get_breed(self):\r\n",
    "        return self.__breed\r\n",
    "    \r\n",
    "    def set_breed(self,breed):\r\n",
    "        self.__breed=breed\r\n",
    "        \r\n",
    "    def add_trick(self,trick):\r\n",
    "        self.__tricks.append(trick)\r\n",
    "        \r\n",
    "    def change_name_and_breed(self,name,breed):\r\n",
    "        self.set_name(name)\r\n",
    "        self.set_breed(breed)\r\n",
    "        \r\n",
    "    def print_details(self):\r\n",
    "        print(\"My name is %s, and I'm a %s and I can do trciks such as %s\" % (self.__name,self.__breed,self.__tricks))"
   ]
  },
  {
   "cell_type": "code",
   "execution_count": null,
   "metadata": {},
   "outputs": [],
   "source": [
    "d1=Dog(\"Terry\",\"Husky\")\r\n",
    "d1.print_details()"
   ]
  },
  {
   "cell_type": "code",
   "execution_count": null,
   "metadata": {},
   "outputs": [],
   "source": [
    "d1.get_breed()"
   ]
  },
  {
   "cell_type": "code",
   "execution_count": null,
   "metadata": {},
   "outputs": [],
   "source": [
    "d1.add_trick(\"Roll Over\")\r\n",
    "d1.print_details()"
   ]
  },
  {
   "cell_type": "code",
   "execution_count": null,
   "metadata": {},
   "outputs": [],
   "source": [
    "d1.add_trick(\"Run\")\r\n",
    "d1.print_details()"
   ]
  },
  {
   "cell_type": "code",
   "execution_count": null,
   "metadata": {},
   "outputs": [],
   "source": [
    "d1.change_name_and_breed(\"Bob\",\"Snaucer\")\r\n",
    "d1.print_details()"
   ]
  }
 ],
 "metadata": {
  "kernelspec": {
   "display_name": "Python 3.11.6 64-bit",
   "name": "python3116jvsc74a57bd0396b296e0f55bef3218fd4c4f1d1d59ace30c25a47d8c2a612b4913fa29e22ed"
  },
  "language_info": {
   "codemirror_mode": {
    "name": "ipython",
    "version": 3
   },
   "file_extension": ".py",
   "mimetype": "text/x-python",
   "name": "python",
   "nbconvert_exporter": "python",
   "pygments_lexer": "ipython3",
   "version": "3.11.6"
  },
  "metadata": {
   "interpreter": {
    "hash": "396b296e0f55bef3218fd4c4f1d1d59ace30c25a47d8c2a612b4913fa29e22ed"
   }
  },
  "orig_nbformat": 2
 },
 "nbformat": 4,
 "nbformat_minor": 2
}