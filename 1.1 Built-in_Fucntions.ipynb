{
 "cells": [
  {
   "cell_type": "code",
   "execution_count": null,
   "metadata": {},
   "outputs": [],
   "source": [
    " #Python has many bult-in function already avaialble for their use. A function has a name and then some brackets or parethensis\r\n",
    "print(\"Hello Wolrd\")"
   ]
  },
  {
   "cell_type": "code",
   "execution_count": null,
   "metadata": {},
   "outputs": [],
   "source": [
    "mysavings=1000\r\n",
    "print(\"My savings from 1 year are:\",mysavings)"
   ]
  },
  {
   "cell_type": "code",
   "execution_count": null,
   "metadata": {},
   "outputs": [],
   "source": [
    "len(\"Hello World!\") #The len function counts the characters that are in a string"
   ]
  },
  {
   "cell_type": "code",
   "execution_count": null,
   "metadata": {},
   "outputs": [],
   "source": [
    "abs(-17.5) #This calculates the absolute value of a number"
   ]
  },
  {
   "cell_type": "code",
   "execution_count": null,
   "metadata": {},
   "outputs": [],
   "source": [
    "type(17.5) #provides the data type of the functions"
   ]
  },
  {
   "cell_type": "code",
   "execution_count": null,
   "metadata": {},
   "outputs": [],
   "source": [
    "round(17.4) #Rounds to the neatest integer"
   ]
  },
  {
   "cell_type": "code",
   "execution_count": null,
   "metadata": {},
   "outputs": [],
   "source": [
    "max(3,4,9,7,15,25) #Gives you the maximum value"
   ]
  },
  {
   "cell_type": "code",
   "execution_count": null,
   "metadata": {},
   "outputs": [],
   "source": [
    "min(3,4,9,7,15,25) #Gives you the minimum value"
   ]
  },
  {
   "cell_type": "code",
   "execution_count": null,
   "metadata": {},
   "outputs": [],
   "source": [
    "x =True\r\n",
    "y=False"
   ]
  },
  {
   "cell_type": "code",
   "execution_count": null,
   "metadata": {},
   "outputs": [],
   "source": [
    "print(\"x or y is:\", x or y)"
   ]
  },
  {
   "cell_type": "code",
   "execution_count": null,
   "metadata": {},
   "outputs": [],
   "source": [
    "print(\"not x is:\", not x)"
   ]
  },
  {
   "cell_type": "code",
   "execution_count": null,
   "metadata": {},
   "outputs": [],
   "source": [
    "z = \"Awesome\"\r\n",
    "print(\"Python is \" + z)"
   ]
  },
  {
   "cell_type": "code",
   "execution_count": null,
   "metadata": {},
   "outputs": [],
   "source": [
    "q=\"Python is \"\r\n",
    "w=\"awesome\"\r\n",
    "e=q+w\r\n",
    "print(e)"
   ]
  },
  {
   "cell_type": "code",
   "execution_count": null,
   "metadata": {},
   "outputs": [],
   "source": [
    "r=e*4\r\n",
    "print(r)"
   ]
  },
  {
   "cell_type": "code",
   "execution_count": null,
   "metadata": {},
   "outputs": [],
   "source": [
    "#For comparison, we have \"==\", \"<\" \">\" \"<=\" \">=\"\r\n",
    "x=y=z=\"Python\"\r\n",
    "\r\n",
    "x=y==z\r\n",
    "print(x)"
   ]
  },
  {
   "cell_type": "code",
   "execution_count": null,
   "metadata": {},
   "outputs": [],
   "source": [
    "a, b, c= 1, 3, \"Python\"\r\n",
    "print(a)\r\n",
    "print(b)\r\n",
    "print(c)"
   ]
  },
  {
   "cell_type": "code",
   "execution_count": null,
   "metadata": {},
   "outputs": [],
   "source": [
    "# +=  add the left-hand side of the operator with the right-hand side of the operator\r\n",
    "x=1\r\n",
    "x+=1\r\n",
    "print(x)"
   ]
  },
  {
   "cell_type": "code",
   "execution_count": null,
   "metadata": {},
   "outputs": [],
   "source": [
    "x=1\r\n",
    "x*=10\r\n",
    "print(x)"
   ]
  },
  {
   "cell_type": "code",
   "execution_count": null,
   "metadata": {},
   "outputs": [],
   "source": [
    "x=50\r\n",
    "x/=10\r\n",
    "print(x)"
   ]
  },
  {
   "cell_type": "code",
   "execution_count": null,
   "metadata": {},
   "outputs": [],
   "source": [
    "x=1\r\n",
    "x=x+1\r\n",
    "print(x)"
   ]
  },
  {
   "cell_type": "code",
   "execution_count": null,
   "metadata": {},
   "outputs": [],
   "source": [
    "type(23)"
   ]
  },
  {
   "cell_type": "code",
   "execution_count": null,
   "metadata": {},
   "outputs": [],
   "source": [
    "x=25.3\r\n",
    "print(\"The type of\",x, \"is: \",type(x))"
   ]
  },
  {
   "cell_type": "code",
   "execution_count": null,
   "metadata": {},
   "outputs": [],
   "source": [
    "x=6j\r\n",
    "print(\"The type of\",x, \"is: \",type(x))"
   ]
  },
  {
   "cell_type": "code",
   "execution_count": null,
   "metadata": {},
   "outputs": [],
   "source": [
    "(5+6j)*(3+4j)"
   ]
  },
  {
   "cell_type": "code",
   "execution_count": null,
   "metadata": {},
   "outputs": [],
   "source": [
    "print(0b1111)"
   ]
  },
  {
   "cell_type": "code",
   "execution_count": 1,
   "metadata": {},
   "outputs": [
    {
     "name": "stdout",
     "output_type": "stream",
     "text": [
      "What did you have for lunch?\n",
      "You had! That Sounds Delicious\n"
     ]
    }
   ],
   "source": [
    "print(\"What did you have for lunch?\")\r\n",
    "answer = input()\r\n",
    "\r\n",
    "\r\n",
    "print(\"You had\"+ answer +\"! \" + \"That Sounds Delicious\")"
   ]
  },
  {
   "cell_type": "code",
   "execution_count": null,
   "metadata": {},
   "outputs": [],
   "source": [
    "print('John said \"Hello World\"')"
   ]
  },
  {
   "cell_type": "code",
   "execution_count": null,
   "metadata": {},
   "outputs": [],
   "source": [
    "print('I\\'m learning \"Python\"')"
   ]
  },
  {
   "cell_type": "code",
   "execution_count": null,
   "metadata": {},
   "outputs": [],
   "source": [
    "print(\"Hello John, \\nHow Are you?\")"
   ]
  },
  {
   "cell_type": "code",
   "execution_count": null,
   "metadata": {},
   "outputs": [],
   "source": [
    "print(\"\"\"Hello World\r\n",
    "How are you doing today,\r\n",
    "I appreciate the support\"\"\")"
   ]
  },
  {
   "cell_type": "code",
   "execution_count": null,
   "metadata": {},
   "outputs": [],
   "source": [
    "my_bar=\"barks\"\r\n",
    "print(f'The dog {my_bar}!')"
   ]
  },
  {
   "cell_type": "code",
   "execution_count": null,
   "metadata": {},
   "outputs": [],
   "source": [
    "my_bar=\"barks\"\r\n",
    "print('The dog {}!'.format(my_bar))"
   ]
  },
  {
   "cell_type": "code",
   "execution_count": null,
   "metadata": {},
   "outputs": [],
   "source": [
    "print(\"John asked \\t 'How are you? \\\\Q'\")"
   ]
  },
  {
   "cell_type": "code",
   "execution_count": null,
   "metadata": {},
   "outputs": [],
   "source": [
    "a1=1.5\r\n",
    "a2=1.9\r\n",
    "a3=1.99\r\n",
    "a4=1.999\r\n",
    "b1=2.5\r\n",
    "b2=2.1\r\n",
    "b3=2.01\r\n",
    "b4=2.001\r\n",
    "print((4*a1+1)/(a1-2),a2/(a2+4),a3/(a3+4),a4/(a4+4) )\r\n",
    "print(b1/(b1-2),b2/(b2-2),b3/(b3+4),b4/(b4+4) )\r\n"
   ]
  },
  {
   "cell_type": "code",
   "execution_count": null,
   "metadata": {},
   "outputs": [],
   "source": [
    "a1=10\r\n",
    "a2=50\r\n",
    "a3=100\r\n",
    "a4=1000\r\n",
    "b1=-10\r\n",
    "b2=-50\r\n",
    "b3=-100\r\n",
    "b4=-1000\r\n",
    "print(a1/(a1-2),a2/(a2-2),a3/(a3-2),a4/(a4-2) )\r\n",
    "print(b1/(b1-2),b2/(b2-2),b3/(b3-2),b4/(b4-2) )"
   ]
  }
 ],
 "metadata": {
  "kernelspec": {
   "display_name": "Python 3.11.6 64-bit",
   "name": "python3116jvsc74a57bd0396b296e0f55bef3218fd4c4f1d1d59ace30c25a47d8c2a612b4913fa29e22ed"
  },
  "language_info": {
   "codemirror_mode": {
    "name": "ipython",
    "version": 3
   },
   "file_extension": ".py",
   "mimetype": "text/x-python",
   "name": "python",
   "nbconvert_exporter": "python",
   "pygments_lexer": "ipython3",
   "version": "3.11.6"
  },
  "metadata": {
   "interpreter": {
    "hash": "396b296e0f55bef3218fd4c4f1d1d59ace30c25a47d8c2a612b4913fa29e22ed"
   }
  },
  "orig_nbformat": 2
 },
 "nbformat": 4,
 "nbformat_minor": 2
}