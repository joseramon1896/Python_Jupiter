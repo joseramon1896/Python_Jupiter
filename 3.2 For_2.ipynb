{
 "cells": [
  {
   "cell_type": "code",
   "execution_count": null,
   "metadata": {},
   "outputs": [],
   "source": [
    "for i in range (1,10):\n",
    "    if i%2 == 0:\n",
    "        print(\"The number %s is divisible by 2\" % i)\n",
    "    else:\n",
    "        print(\"The number %s is not divisible by 2\" % i)"
   ]
  },
  {
   "cell_type": "code",
   "execution_count": null,
   "metadata": {},
   "outputs": [],
   "source": [
    "num_list = []\n",
    "for i in range(1,21):\n",
    "    if(i%3==0 or i%5==0):\n",
    "        num_list.append(i)\n",
    "\n",
    "print(num_list)"
   ]
  },
  {
   "cell_type": "code",
   "execution_count": null,
   "metadata": {},
   "outputs": [],
   "source": [
    "items = []\n",
    "\n",
    "for i in range(100,301):\n",
    "\n",
    "    num_str = str(i)\n",
    "    first_digit = int(num_str[0])\n",
    "    second_digit = int(num_str[1])\n",
    "    third_digit = int(num_str[2])\n",
    "\n",
    "    if(first_digit % 2 ==0) and (second_digit % 2 ==0) and (third_digit %2 ==0):\n",
    "        items.append(num_str)\n",
    "\n",
    "print(\", \".join(items))"
   ]
  },
  {
   "cell_type": "code",
   "execution_count": null,
   "metadata": {},
   "outputs": [],
   "source": [
    "for num1 in range(1,10):\n",
    "    print(\"num =\", num1, \":\", end = \" \")\n",
    "\n",
    "    for num2 in range(1,4):\n",
    "        print(\"{:1d}\".format(num1*num2), end = \" \")\n",
    "\n",
    "        print()"
   ]
  },
  {
   "cell_type": "code",
   "execution_count": null,
   "metadata": {},
   "outputs": [],
   "source": [
    "#Print the cubes of all the elements in a list using a for loop\n",
    "for i in range(1,10):\n",
    "    print(\"The cube of %d is: %d\"%(i,i**3))"
   ]
  },
  {
   "cell_type": "code",
   "execution_count": null,
   "metadata": {},
   "outputs": [],
   "source": [
    "#Given the following 2-D list, create a 1-D list containing all the automobile company names\n",
    "myList=([\"Volkswagen\",\"Mercedes\",\"BMW\"],[\"Honda\",\"Toyota\",\"Mazda\"])\n",
    "newList=[]\n",
    "\n",
    "for sublist in myList:\n",
    "    for name in sublist:\n",
    "        newList.append(name)\n",
    "\n",
    "print(newList)"
   ]
  },
  {
   "cell_type": "code",
   "execution_count": null,
   "metadata": {},
   "outputs": [],
   "source": [
    "#Use the range function to print all the leap years in the 21st Century\n",
    "for i in range(2000,3000):\n",
    "    if(i%4 == 0):\n",
    "        print(\"The year %d is a leap year\"%(i))\n",
    "\n"
   ]
  }
 ],
 "metadata": {
  "kernelspec": {
   "display_name": "Python 3",
   "language": "python",
   "name": "python3"
  },
  "language_info": {
   "codemirror_mode": {
    "name": "ipython",
    "version": 3
   },
   "file_extension": ".py",
   "mimetype": "text/x-python",
   "name": "python",
   "nbconvert_exporter": "python",
   "pygments_lexer": "ipython3",
   "version": "3.11.6"
  },
  "metadata": {
   "interpreter": {
    "hash": "396b296e0f55bef3218fd4c4f1d1d59ace30c25a47d8c2a612b4913fa29e22ed"
   }
  },
  "orig_nbformat": 2
 },
 "nbformat": 4,
 "nbformat_minor": 2
}
