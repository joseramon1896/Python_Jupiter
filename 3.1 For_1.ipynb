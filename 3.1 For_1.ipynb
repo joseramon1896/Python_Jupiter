{
 "cells": [
  {
   "cell_type": "code",
   "execution_count": null,
   "metadata": {},
   "outputs": [],
   "source": [
    "for letter in [\"H\",\"e\",\"l\",\"l\",\"o\"]:\r\n",
    "    print(letter)"
   ]
  },
  {
   "cell_type": "code",
   "execution_count": null,
   "metadata": {},
   "outputs": [],
   "source": [
    "for letter in \"Hello\": #Python understands that when we use a string as the set, this will be taken character by character as the interation\r\n",
    "    print(letter)"
   ]
  },
  {
   "cell_type": "code",
   "execution_count": null,
   "metadata": {},
   "outputs": [],
   "source": [
    "my_string=\"Hello World\"\r\n",
    "\r\n",
    "for char in my_string:\r\n",
    "    print(char)"
   ]
  },
  {
   "cell_type": "code",
   "execution_count": null,
   "metadata": {},
   "outputs": [],
   "source": [
    "for digit in \"10\":\r\n",
    "    print(digit)"
   ]
  },
  {
   "cell_type": "code",
   "execution_count": null,
   "metadata": {},
   "outputs": [],
   "source": [
    "for digit in 10:\r\n",
    "    print(digit)"
   ]
  },
  {
   "cell_type": "code",
   "execution_count": null,
   "metadata": {},
   "outputs": [],
   "source": [
    "for country in \"Germany\", \"Israel\", \"UK\":\r\n",
    "    print(country)"
   ]
  },
  {
   "cell_type": "code",
   "execution_count": null,
   "metadata": {},
   "outputs": [],
   "source": [
    "dogs=(\"Pug\", \"Doberman\", \"Golden Retriever\")"
   ]
  },
  {
   "cell_type": "code",
   "execution_count": null,
   "metadata": {},
   "outputs": [],
   "source": [
    "for dog in dogs:\r\n",
    "    print(\"It's a\", dog)"
   ]
  },
  {
   "cell_type": "code",
   "execution_count": null,
   "metadata": {},
   "outputs": [],
   "source": [
    "dog_weight=((\"Pug\",20),\r\n",
    "            (\"Doberman\",80),\r\n",
    "            (\"Golden Retriever\",50))\r\n",
    "\r\n",
    "for i,(dog,weight) in enumerate(dog_weight):\r\n",
    "    print(\"The dog at index %d is a %s, and it's weight is %s pounds\" % (i,dog,weight))"
   ]
  },
  {
   "cell_type": "code",
   "execution_count": null,
   "metadata": {},
   "outputs": [],
   "source": [
    "friends = [\"John\",\"Sam\", \"Jill\"]\r\n",
    "\r\n",
    "for friend in friends:\r\n",
    "    print(\"Happy New Year\",friend)"
   ]
  },
  {
   "cell_type": "code",
   "execution_count": null,
   "metadata": {},
   "outputs": [],
   "source": [
    "student_scores={\"John\":80,\r\n",
    "                \"Sam\":60,\r\n",
    "                \"Jill\":50,\r\n",
    "                \"Robert\":30}\r\n",
    "\r\n",
    "student_scores"
   ]
  },
  {
   "cell_type": "code",
   "execution_count": null,
   "metadata": {},
   "outputs": [],
   "source": [
    "for student in student_scores:\r\n",
    "    print(student)"
   ]
  },
  {
   "cell_type": "code",
   "execution_count": null,
   "metadata": {},
   "outputs": [],
   "source": [
    "student_scores.keys()"
   ]
  },
  {
   "cell_type": "code",
   "execution_count": null,
   "metadata": {},
   "outputs": [],
   "source": [
    "for student in student_scores.keys():\r\n",
    "    print(student)"
   ]
  },
  {
   "cell_type": "code",
   "execution_count": null,
   "metadata": {},
   "outputs": [],
   "source": [
    "for score in student_scores.values():\r\n",
    "    print(score)"
   ]
  },
  {
   "cell_type": "code",
   "execution_count": null,
   "metadata": {},
   "outputs": [],
   "source": [
    "for key in student_scores:\r\n",
    "    print(\"Key value pair\", key,\":\",student_scores[key])"
   ]
  },
  {
   "cell_type": "code",
   "execution_count": null,
   "metadata": {},
   "outputs": [],
   "source": [
    "for key_item in student_scores.items():\r\n",
    "    print(key_item)"
   ]
  },
  {
   "cell_type": "code",
   "execution_count": null,
   "metadata": {},
   "outputs": [],
   "source": [
    "for student,score in student_scores.items():\r\n",
    "    print(\"Student\", student, \"\\tScore:\", score)"
   ]
  },
  {
   "cell_type": "code",
   "execution_count": null,
   "metadata": {},
   "outputs": [],
   "source": [
    "numbers=[2,4,6,9,10]\r\n",
    "\r\n",
    "for num in numbers:\r\n",
    "    quotient = num // 2\r\n",
    "    \r\n",
    "    print(quotient,\"is the quotient of\", num, \"/2\")"
   ]
  },
  {
   "cell_type": "code",
   "execution_count": null,
   "metadata": {},
   "outputs": [],
   "source": [
    "mixed_list=[2,10.5,1+3j,\r\n",
    "           True,\"Python\",\r\n",
    "           (0,1),[2,-5],\r\n",
    "           {\"Class\":\"V\",\"Section\":\"A\"}]\r\n",
    "\r\n",
    "for item in mixed_list:\r\n",
    "    print(\"Type of\", item, \"is\", type(item))\r\n"
   ]
  },
  {
   "cell_type": "code",
   "execution_count": null,
   "metadata": {},
   "outputs": [],
   "source": [
    "num_list=[2,4,6,9,10]\r\n",
    "\r\n",
    "square=0\r\n",
    "\r\n",
    "for val in num_list:\r\n",
    "    square=val**2\r\n",
    "    \r\n",
    "    print(\"Square of\",val,\"is\",square)\r\n"
   ]
  },
  {
   "cell_type": "code",
   "execution_count": null,
   "metadata": {},
   "outputs": [],
   "source": [
    "string=input(\"Enter a string: \")\r\n",
    "count =0\r\n",
    "\r\n",
    "for i in string:\r\n",
    "    count=count+1\r\n",
    "    \r\n",
    "    print(count)\r\n",
    "\r\n"
   ]
  },
  {
   "cell_type": "code",
   "execution_count": null,
   "metadata": {},
   "outputs": [],
   "source": [
    "number=[2,4,6,8]\r\n",
    "\r\n",
    "for num in numbers:\r\n",
    "    print(num)\r\n",
    "    \r\n",
    "else:\r\n",
    "    print(\"No more items left in the list\")\r\n"
   ]
  },
  {
   "cell_type": "code",
   "execution_count": null,
   "metadata": {},
   "outputs": [],
   "source": [
    "numbers=[\"a\",\"b\",\"c\",\"d\"]\r\n",
    "\r\n",
    "for num in numbers:\r\n",
    "    print(num)\r\n",
    "    \r\n",
    "else:\r\n",
    "    print(\"No more items left in the list\")"
   ]
  },
  {
   "cell_type": "code",
   "execution_count": null,
   "metadata": {},
   "outputs": [],
   "source": [
    "us_cities=[\"New York\",\"Chicago\",\"Denver\"]\r\n",
    "\r\n",
    "for city in us_cities:\r\n",
    "    \r\n",
    "    if city == \"New York\":\r\n",
    "        print(city,\"is present in the list\")\r\n",
    "        "
   ]
  },
  {
   "cell_type": "code",
   "execution_count": null,
   "metadata": {},
   "outputs": [],
   "source": [
    "number_list=[2,14,13,15,28,46,103,109,200]\r\n",
    "\r\n",
    "for number in number_list:\r\n",
    "    if number % 2 == 0:\r\n",
    "        print(\"The list contains an Even number\", number)"
   ]
  },
  {
   "cell_type": "code",
   "execution_count": null,
   "metadata": {},
   "outputs": [],
   "source": [
    "years=[2016,2017,2018,2019,2020,2021,2022,2023,2024]\r\n",
    "\r\n",
    "for year in years:\r\n",
    "    \r\n",
    "    if year % 4 == 0:\r\n",
    "        print(\"Year %d is a leap year\" % (year))\r\n",
    "    else:\r\n",
    "        print(\"Year %d is not a leap year\"%(year))\r\n",
    "        "
   ]
  },
  {
   "cell_type": "code",
   "execution_count": null,
   "metadata": {},
   "outputs": [],
   "source": [
    "names=[[\"Jessica\",\"Wendy\",\"Barbara\"],\r\n",
    "      [\"Jason\",\"James\",\"Jospeh\"]]\r\n",
    "\r\n",
    "for sublist in names:\r\n",
    "    print(sublist)"
   ]
  },
  {
   "cell_type": "code",
   "execution_count": null,
   "metadata": {},
   "outputs": [],
   "source": [
    "for sublist in names:\r\n",
    "    for name in sublist:\r\n",
    "        print(name)"
   ]
  },
  {
   "cell_type": "code",
   "execution_count": null,
   "metadata": {},
   "outputs": [],
   "source": [
    "color_list=[\"red\",\"blue\",\"orange\"]\r\n",
    "object_list=[\"Pen\",\"Marker\",\"Pencil\"]\r\n",
    "\r\n",
    "for color in color_list:\r\n",
    "    for obj in object_list:\r\n",
    "        \r\n",
    "        print(color,obj)"
   ]
  },
  {
   "cell_type": "code",
   "execution_count": null,
   "metadata": {},
   "outputs": [],
   "source": [
    "from matplotlib import pyplot as plt\r\n",
    "import numpy as np\r\n",
    "import math\r\n",
    "%matplotlib inline\r\n",
    "x=np.arange(0,math.pi*2,0.05)\r\n",
    "y=np.sin(x)\r\n",
    "fig=plt.figure()\r\n",
    "ax=fig.add_axes([0,0,1,1])\r\n",
    "ax.plot(x,y)\r\n",
    "ax.set_title(\"sine wave\")\r\n",
    "ax.set_xlabel(\"angle\")\r\n",
    "ax.set_ylabel(\"sine\")"
   ]
  },
  {
   "cell_type": "code",
   "execution_count": null,
   "metadata": {},
   "outputs": [],
   "source": [
    "my_range=range(5)\r\n",
    "\r\n",
    "my_range"
   ]
  },
  {
   "cell_type": "code",
   "execution_count": null,
   "metadata": {},
   "outputs": [],
   "source": [
    "tuple(my_range)"
   ]
  },
  {
   "cell_type": "code",
   "execution_count": null,
   "metadata": {},
   "outputs": [],
   "source": [
    "list(my_range)"
   ]
  },
  {
   "cell_type": "code",
   "execution_count": null,
   "metadata": {},
   "outputs": [],
   "source": [
    "list(range(5,10))"
   ]
  },
  {
   "cell_type": "code",
   "execution_count": null,
   "metadata": {},
   "outputs": [],
   "source": [
    "list(range(-5,5))"
   ]
  },
  {
   "cell_type": "code",
   "execution_count": null,
   "metadata": {},
   "outputs": [],
   "source": [
    "for i in range(5):\r\n",
    "    print(i)"
   ]
  },
  {
   "cell_type": "code",
   "execution_count": null,
   "metadata": {},
   "outputs": [],
   "source": [
    "for i in range(2**2):\r\n",
    "    print(i)"
   ]
  },
  {
   "cell_type": "code",
   "execution_count": null,
   "metadata": {},
   "outputs": [],
   "source": [
    "for i in range(5,8):\r\n",
    "    print(\"The square of %d is: %d\" % (i,i**2))\r\n",
    "    \r\n",
    "print(\"End of loop\")"
   ]
  },
  {
   "cell_type": "code",
   "execution_count": null,
   "metadata": {},
   "outputs": [],
   "source": [
    "for i in range(5,8+1):\r\n",
    "    print(\"The square of %d is: %d\" % (i,i**2))\r\n",
    "    \r\n",
    "print(\"End of loop\")"
   ]
  },
  {
   "cell_type": "code",
   "execution_count": null,
   "metadata": {},
   "outputs": [],
   "source": [
    "x=range(5)\r\n",
    "\r\n",
    "for i in reversed(x):\r\n",
    "    print(i)"
   ]
  },
  {
   "cell_type": "code",
   "execution_count": null,
   "metadata": {},
   "outputs": [],
   "source": [
    "list(range(5,10,3))"
   ]
  },
  {
   "cell_type": "code",
   "execution_count": null,
   "metadata": {},
   "outputs": [],
   "source": [
    "list(range(5,-15,-1))"
   ]
  },
  {
   "cell_type": "code",
   "execution_count": null,
   "metadata": {},
   "outputs": [],
   "source": [
    "for i in range (1,10):\r\n",
    "    if i%2==0:\r\n",
    "        print(\"The number %s is divisible by 2\"%i)\r\n",
    "        "
   ]
  },
  {
   "cell_type": "code",
   "execution_count": null,
   "metadata": {},
   "outputs": [],
   "source": []
  },
  {
   "cell_type": "code",
   "execution_count": null,
   "metadata": {},
   "outputs": [],
   "source": []
  },
  {
   "cell_type": "code",
   "execution_count": null,
   "metadata": {},
   "outputs": [],
   "source": []
  },
  {
   "cell_type": "code",
   "execution_count": null,
   "metadata": {},
   "outputs": [],
   "source": []
  },
  {
   "cell_type": "code",
   "execution_count": null,
   "metadata": {},
   "outputs": [],
   "source": []
  },
  {
   "cell_type": "code",
   "execution_count": null,
   "metadata": {},
   "outputs": [],
   "source": []
  }
 ],
 "metadata": {
  "kernelspec": {
   "display_name": "Python 3.11.6 64-bit",
   "name": "python3116jvsc74a57bd0396b296e0f55bef3218fd4c4f1d1d59ace30c25a47d8c2a612b4913fa29e22ed"
  },
  "language_info": {
   "name": "python",
   "version": ""
  },
  "metadata": {
   "interpreter": {
    "hash": "396b296e0f55bef3218fd4c4f1d1d59ace30c25a47d8c2a612b4913fa29e22ed"
   }
  },
  "orig_nbformat": 2
 },
 "nbformat": 4,
 "nbformat_minor": 2
}