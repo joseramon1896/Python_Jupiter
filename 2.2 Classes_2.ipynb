{
 "metadata": {
  "language_info": {
   "codemirror_mode": {
    "name": "ipython",
    "version": 3
   },
   "file_extension": ".py",
   "mimetype": "text/x-python",
   "name": "python",
   "nbconvert_exporter": "python",
   "pygments_lexer": "ipython3",
   "version": "3.11.6"
  },
  "orig_nbformat": 2,
  "kernelspec": {
   "name": "python3116jvsc74a57bd0396b296e0f55bef3218fd4c4f1d1d59ace30c25a47d8c2a612b4913fa29e22ed",
   "display_name": "Python 3.11.6 64-bit"
  },
  "metadata": {
   "interpreter": {
    "hash": "396b296e0f55bef3218fd4c4f1d1d59ace30c25a47d8c2a612b4913fa29e22ed"
   }
  }
 },
 "nbformat": 4,
 "nbformat_minor": 2,
 "cells": [
  {
   "cell_type": "code",
   "execution_count": 3,
   "metadata": {},
   "outputs": [],
   "source": [
    "class Student:\n",
    "    \n",
    "    def __init__(self,name,GPA):\n",
    "        self.__name=name\n",
    "        self.__GPA=GPA\n",
    "        self.__clubs=set()\n",
    "        self.__active=True\n",
    "        \n",
    "    def set_name(self,name):\n",
    "        self.__name=name\n",
    "        \n",
    "    def set_GPA(self,GPA):\n",
    "        self.__GPA=GPA\n",
    "        \n",
    "    def add_club(self,club):\n",
    "        self.__clubs.add(club)\n",
    "        \n",
    "    def remove_club(self,club):\n",
    "        self.__clubs.remove(club)\n",
    "        \n",
    "    def set_active(self,active):\n",
    "        self.__active=True\n",
    "        \n",
    "    def print_details(self):\n",
    "        print(\"The student is %s, the GPA is %s and he/she is currently %s\" % (self.__name,self.__GPA, self.__active))\n",
    "        print(\"The Clubs are: %s\" % (self.__clubs))"
   ]
  },
  {
   "cell_type": "code",
   "execution_count": 4,
   "metadata": {},
   "outputs": [
    {
     "output_type": "stream",
     "name": "stdout",
     "text": [
      "The student is Jason, the GPA is 4.3 and he/she is currently True\nThe Clubs are: set()\n"
     ]
    }
   ],
   "source": [
    "s1=Student(\"Jason\",\"4.3\")\n",
    "s1.print_details()"
   ]
  },
  {
   "cell_type": "code",
   "execution_count": 5,
   "metadata": {},
   "outputs": [
    {
     "output_type": "stream",
     "name": "stdout",
     "text": [
      "The student is Jason, the GPA is 4.3 and he/she is currently True\nThe Clubs are: {'Yoga'}\n"
     ]
    }
   ],
   "source": [
    "s1.add_club(\"Yoga\")\n",
    "s1.print_details()"
   ]
  },
  {
   "cell_type": "code",
   "execution_count": 6,
   "metadata": {},
   "outputs": [
    {
     "output_type": "stream",
     "name": "stdout",
     "text": [
      "The student is Jason, the GPA is 4.3 and he/she is currently True\nThe Clubs are: {'Yoga', 'Baseball'}\n"
     ]
    }
   ],
   "source": [
    "s1.add_club(\"Baseball\")\n",
    "s1.print_details()"
   ]
  },
  {
   "cell_type": "code",
   "execution_count": 7,
   "metadata": {},
   "outputs": [
    {
     "output_type": "stream",
     "name": "stdout",
     "text": [
      "The student is Jason, the GPA is 4.3 and he/she is currently True\nThe Clubs are: {'yoga', 'Yoga', 'Baseball'}\n"
     ]
    }
   ],
   "source": [
    "s1.add_club(\"yoga\")\n",
    "s1.print_details()"
   ]
  },
  {
   "cell_type": "code",
   "execution_count": 8,
   "metadata": {},
   "outputs": [
    {
     "output_type": "stream",
     "name": "stdout",
     "text": [
      "The student is Jason, the GPA is 4.3 and he/she is currently True\nThe Clubs are: {'yoga', 'Yoga', 'Baseball'}\n"
     ]
    }
   ],
   "source": [
    "s1.add_club(\"yoga\")\n",
    "s1.print_details()"
   ]
  },
  {
   "cell_type": "code",
   "execution_count": 9,
   "metadata": {},
   "outputs": [],
   "source": [
    "student_details_list = [\n",
    "{\"name\":\"Nina\",\"GPA\":\"3.5\",\"clubs\":[\"tennis\",\"chess\"]},\n",
    "{\"name\":\"Tera\",\"clubs\":[\"tennis\",\"chess\"]},\n",
    "{\"name\":\"Joel\",\"GPA\":\"4.2\",\"clubs\":[\"yoga\",\"jogging\"]},\n",
    "{\"name\":\"Axel\",\"GPA\":\"5.0\",\"clubs\":[\"guitar\",\"boxing\"]},\n",
    "{\"name\":\"Leonard\",\"GPA\":\"3.2\",\"clubs\":[\"poetry\",\"drama\"], \"is_honors_student\": True}\n",
    "]"
   ]
  },
  {
   "cell_type": "code",
   "execution_count": 10,
   "metadata": {},
   "outputs": [],
   "source": [
    "def get_students(student_details_list):\n",
    "    students_list=[]\n",
    "    \n",
    "    for student_details in student_details_list:\n",
    "    \n",
    "        if \"name\" not in student_details or \"GPA\" not in student_details:\n",
    "            continue\n",
    "            \n",
    "        s= Student(student_details[\"name\"],student_details[\"GPA\"])\n",
    "        \n",
    "        if \"clubs\" in student_details:\n",
    "            for club in student_details[\"clubs\"]:\n",
    "                s.add_club(club)\n",
    "                \n",
    "        if \"active\" in student_details:\n",
    "            s.set_active(student_details[\"active\"])\n",
    "        \n",
    "        students_list.append(s)\n",
    "        \n",
    "    return students_list"
   ]
  },
  {
   "cell_type": "code",
   "execution_count": 11,
   "metadata": {},
   "outputs": [
    {
     "output_type": "execute_result",
     "data": {
      "text/plain": [
       "[<__main__.Student at 0x245e3a77f50>,\n",
       " <__main__.Student at 0x245e3f865d0>,\n",
       " <__main__.Student at 0x245e3f87090>,\n",
       " <__main__.Student at 0x245e3f84e10>]"
      ]
     },
     "metadata": {},
     "execution_count": 11
    }
   ],
   "source": [
    "students=get_students(student_details_list)\n",
    "\n",
    "students"
   ]
  },
  {
   "cell_type": "code",
   "execution_count": 12,
   "metadata": {},
   "outputs": [
    {
     "output_type": "stream",
     "name": "stdout",
     "text": [
      "The student is Nina, the GPA is 3.5 and he/she is currently True\nThe Clubs are: {'chess', 'tennis'}\nThe student is Joel, the GPA is 4.2 and he/she is currently True\nThe Clubs are: {'yoga', 'jogging'}\nThe student is Axel, the GPA is 5.0 and he/she is currently True\nThe Clubs are: {'boxing', 'guitar'}\nThe student is Leonard, the GPA is 3.2 and he/she is currently True\nThe Clubs are: {'drama', 'poetry'}\n"
     ]
    }
   ],
   "source": [
    "for student in students:\n",
    "    student.print_details()"
   ]
  },
  {
   "cell_type": "code",
   "execution_count": null,
   "metadata": {},
   "outputs": [],
   "source": []
  },
  {
   "cell_type": "code",
   "execution_count": null,
   "metadata": {},
   "outputs": [],
   "source": []
  },
  {
   "cell_type": "code",
   "execution_count": null,
   "metadata": {},
   "outputs": [],
   "source": []
  }
 ]
}